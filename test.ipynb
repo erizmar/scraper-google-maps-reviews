{
 "metadata": {
  "language_info": {
   "codemirror_mode": {
    "name": "ipython",
    "version": 3
   },
   "file_extension": ".py",
   "mimetype": "text/x-python",
   "name": "python",
   "nbconvert_exporter": "python",
   "pygments_lexer": "ipython3",
   "version": "3.7.6-final"
  },
  "orig_nbformat": 2,
  "kernelspec": {
   "name": "python3",
   "display_name": "Python 3",
   "language": "python"
  }
 },
 "nbformat": 4,
 "nbformat_minor": 2,
 "cells": [
  {
   "cell_type": "code",
   "execution_count": 3,
   "metadata": {},
   "outputs": [
    {
     "output_type": "stream",
     "name": "stdout",
     "text": [
      "https://www.google.com/maps/preview/review/listentitiesreviews?authuser=0&hl=id&gl=id&pb=!1m2!1y3303385645568173453!2y7918460690842932799!2m2!1i0!2i10!3e1!4m5!3b1!4b1!5b1!6b1!7b1!5m2!1sp-f6X8WPO5LorQH37rVo!7e81\n45000\nTaman Bungkul\n\nhttps://www.google.com/maps/preview/review/listentitiesreviews?authuser=0&hl=id&gl=id&pb=!1m2!1y3303385283779979263!2y2995979140639988541!2m2!1i0!2i10!3e1!4m5!3b1!4b1!5b1!6b1!7b1!5m2!1s_PD5X4yQB6SEmgec5raIBQ!7e81\n6000\nTaman Pelangi\n\nhttps://www.google.com/maps/preview/review/listentitiesreviews?authuser=0&hl=id&gl=id&pb=!1m2!1y3303383053383311589!2y6301735935523879691!2m2!1i0!2i10!3e1!4m5!3b1!4b1!5b1!6b1!7b1!5m2!1skPD5X9Zp2cLctQ-EqbWQBg!7e81\n13500\nMonumen Kapal Selam\n\nhttps://www.google.com/maps/preview/review/listentitiesreviews?authuser=0&hl=id&gl=id&pb=!1m2!1y3303382903899143261!2y1228982251480563646!2m2!1i0!2i10!3e1!4m5!3b1!4b1!5b1!6b1!7b1!5m2!1s9uv5X9X1MqDEz7sPuq228As!7e81\n18500\nMonumen Tugu Pahlawan\n\nhttps://www.google.com/maps/preview/review/listentitiesreviews?authuser=0&hl=id&gl=id&pb=!1m2!1y3303383045346272845!2y12294315900115775861!2m2!1i0!2i10!3e1!4m5!3b1!4b1!5b1!6b1!7b1!5m2!1sR_D5X9KhEOa-3LUP5LyzyA8!7e81\n70000\nTunjungan Plaza\n\nhttps://www.google.com/maps/preview/review/listentitiesreviews?authuser=0&hl=id&gl=id&pb=!1m2!1y3303383064525725065!2y4960584952089012159!2m2!1i0!2i10!3e1!4m5!3b1!4b1!5b1!6b1!7b1!5m2!1sp-f6X8WPO5LorQH37rVo!7e81\n7500\nAiola Eatery\n\nhttps://www.google.com/maps/preview/review/listentitiesreviews?authuser=0&hl=id&gl=id&pb=!1m2!1y3303383049482947341!2y8961450744922827188!2m2!1i0!2i10!3e1!4m5!3b1!4b1!5b1!6b1!7b1!5m2!1sG-j6X8ipDvXaz7sPnv-B8AM!7e81\n800\nArca Joko Dolog\n\nhttps://www.google.com/maps/preview/review/listentitiesreviews?authuser=0&hl=id&gl=id&pb=!1m2!1y3303383476127114963!2y4576956107009878569!2m2!1i0!2i10!3e1!4m5!3b1!4b1!5b1!6b1!7b1!5m2!1shOj6X4bUGPHC3LUPpMSR0Aw!7e81\n3500\nTaman Air Mancur Menari Kenjeran\n\nhttps://www.google.com/maps/preview/review/listentitiesreviews?authuser=0&hl=id&gl=id&pb=!1m2!1y3303385789272721931!2y1519227541613816321!2m2!1i0!2i10!3e1!4m5!3b1!4b1!5b1!6b1!7b1!5m2!1shej6X4jzNZjFz7sP3LiS0AY!7e81\n300\nWisata Rasa Basuki Rahmat - Almond Crispy Cheese\n\nhttps://www.google.com/maps/preview/review/listentitiesreviews?authuser=0&hl=id&gl=id&pb=!1m2!1y3303383468245921181!2y9699029057943356834!2m2!1i0!2i10!3e1!4m5!3b1!4b1!5b1!6b1!7b1!5m2!1sh-j6X9zIDPO0mgffxqiQBQ!7e81\n1000\nAtlantis Land\n\nhttps://www.google.com/maps/preview/review/listentitiesreviews?authuser=0&hl=id&gl=id&pb=!1m2!1y3303383272237904957!2y9486552512698784681!2m2!1i0!2i10!3e1!4m5!3b1!4b1!5b1!6b1!7b1!5m2!1sNPn6X5TzDMn6rQGu9I74Bg!7e81\n100\njembatan suroboyo\n\nhttps://www.google.com/maps/preview/review/listentitiesreviews?authuser=0&hl=id&gl=id&pb=!1m2!1y3303385647540590837!2y6752489829254121995!2m2!1i0!2i10!3e1!4m5!3b1!4b1!5b1!6b1!7b1!5m2!1smvn6X5TUG9nmz7sPyemq6AM!7e81\n100\nTaman Jembatan Ujung Galuh\n\nhttps://www.google.com/maps/preview/review/listentitiesreviews?authuser=0&hl=id&gl=id&pb=!1m2!1y3303383073848239287!2y598996130893657068!2m2!1i0!2i10!3e1!4m5!3b1!4b1!5b1!6b1!7b1!5m2!1s0-_6X76QC9TQrQHhhZTADA!7e81\n100\nChipmunks Playland & Cafe Tunjungan Plaza\n\nhttps://www.google.com/maps/preview/review/listentitiesreviews?authuser=0&hl=id&gl=id&pb=!1m2!1y3303382779503234905!2y4971926707000577254!2m2!1i0!2i10!3e1!4m5!3b1!4b1!5b1!6b1!7b1!5m2!1sHPb6X7CJIYv59QO3hbDYBA!7e81\n100\nGedung Cerutu\n\nhttps://www.google.com/maps/preview/review/listentitiesreviews?authuser=0&hl=id&gl=id&pb=!1m2!1y3303382779379956045!2y13425879106277069442!2m2!1i0!2i10!3e1!4m5!3b1!4b1!5b1!6b1!7b1!5m2!1sT_b6X_adHu6CrtoP0ZSJ4AE!7e81\n100\nGedung Internatio\n\nhttps://www.google.com/maps/preview/review/listentitiesreviews?authuser=0&hl=id&gl=id&pb=!1m2!1y3303383047665776499!2y9621051035411579858!2m2!1i0!2i10!3e1!4m5!3b1!4b1!5b1!6b1!7b1!5m2!1skfb6X4j6CojyrAHhxLLgCg!7e81\n200\nGedung Grahadi\n\nhttps://www.google.com/maps/preview/review/listentitiesreviews?authuser=0&hl=id&gl=id&pb=!1m2!1y3303382687394920221!2y16945277294709109763!2m2!1i0!2i10!3e1!4m5!3b1!4b1!5b1!6b1!7b1!5m2!1sqfj6X9iPINiv9QOSvqrIBQ!7e81\n300\nJalan Gula Spot Foto\n\nhttps://www.google.com/maps/preview/review/listentitiesreviews?authuser=0&hl=id&gl=id&pb=!1m2!1y3303386936487330267!2y15307655629838238884!2m2!1i0!2i10!3e1!4m5!3b1!4b1!5b1!6b1!7b1!5m2!1sGPj6X7XcDdnQrQHp-qTYDA!7e81\n400\nHutan Kota Balas Klumprik\n\nhttps://www.google.com/maps/preview/review/listentitiesreviews?authuser=0&hl=id&gl=id&pb=!1m2!1y3303383008671057809!2y7789304018526620901!2m2!1i0!2i10!3e1!4m5!3b1!4b1!5b1!6b1!7b1!5m2!1savX6X4LpOsLb9QOO75aYCA!7e81\n600\nGado - Gado Arjuna Pak Satumin\n\nhttps://www.google.com/maps/preview/review/listentitiesreviews?authuser=0&hl=id&gl=id&pb=!1m2!1y3303382780141540765!2y15978160514476767996!2m2!1i0!2i10!3e1!4m5!3b1!4b1!5b1!6b1!7b1!5m2!1s9fH6X8DNEsL8rQGYkoKICQ!7e81\n1000\nMuseum De Javasche Bank\n\nhttps://www.google.com/maps/preview/review/listentitiesreviews?authuser=0&hl=id&gl=id&pb=!1m2!1y3303383048852343655!2y10988765655828979850!2m2!1i0!2i10!3e1!4m5!3b1!4b1!5b1!6b1!7b1!5m2!1sk-v6X_LXHJ3Tz7sPu-inqAE!7e81\n3700\nBalai Pemuda Surabaya\n\nhttps://www.google.com/maps/preview/review/listentitiesreviews?authuser=0&hl=id&gl=id&pb=!1m2!1y3303384567902078559!2y10023358191368877588!2m2!1i0!2i10!3e1!4m5!3b1!4b1!5b1!6b1!7b1!5m2!1sg-v6X9bhHcGAmgfW0JmoCw!7e81\n4800\nBebek Goreng Palupi Rungkut\n\nhttps://www.google.com/maps/preview/review/listentitiesreviews?authuser=0&hl=id&gl=id&pb=!1m2!1y3303385127579153371!2y965954550238020775!2m2!1i0!2i10!3e1!4m5!3b1!4b1!5b1!6b1!7b1!5m2!1sO-_6X9LGG9Sb9QOJ-40w!7e81\n1500\nCakcuk Cafe Surabaya\n\nhttps://www.google.com/maps/preview/review/listentitiesreviews?authuser=0&hl=id&gl=id&pb=!1m2!1y3303383051180788057!2y16342947342158524008!2m2!1i0!2i10!3e1!4m5!3b1!4b1!5b1!6b1!7b1!5m2!1s0O_6X_y4G5mz9QP6n4L4Ag!7e81\n3400\nUPT. TAMAN BUDAYA JAWA TIMUR\n\nhttps://www.google.com/maps/preview/review/listentitiesreviews?authuser=0&hl=id&gl=id&pb=!1m2!1y3303388058316576201!2y9230319956840935022!2m2!1i0!2i10!3e1!4m5!3b1!4b1!5b1!6b1!7b1!5m2!1sjPD6X_uOEdfgrQGh56SYCw!7e81\n3900\nCiputra Waterpark\n\nhttps://www.google.com/maps/preview/review/listentitiesreviews?authuser=0&hl=id&gl=id&pb=!1m2!1y3303385484901388997!2y5174069763947699052!2m2!1i0!2i10!3e1!4m5!3b1!4b1!5b1!6b1!7b1!5m2!1sWvH6X_WCPNborQGahpWACA!7e81\n5900\nMall DTC Wonokromo\n\nhttps://www.google.com/maps/preview/review/listentitiesreviews?authuser=0&hl=id&gl=id&pb=!1m2!1y3303386279733144539!2y4995660690811551071!2m2!1i0!2i10!3e1!4m5!3b1!4b1!5b1!6b1!7b1!5m2!1sYPH6X71t4aiu2g_vnLCQAg!7e81\n3800\nDanau Unesa Lidah Wetan\n\nhttps://www.google.com/maps/preview/review/listentitiesreviews?authuser=0&hl=id&gl=id&pb=!1m2!1y3303387913679148595!2y435208099729083183!2m2!1i0!2i10!3e1!4m5!3b1!4b1!5b1!6b1!7b1!5m2!1saPP6X_e5EYPWz7sP6ve3sAo!7e81\n1200\nDepot Pak Qomar (Bebek Goreng & Ayam Goreng)\n\nhttps://www.google.com/maps/preview/review/listentitiesreviews?authuser=0&hl=id&gl=id&pb=!1m2!1y3303383058616427445!2y2048468357991693243!2m2!1i0!2i10!3e1!4m5!3b1!4b1!5b1!6b1!7b1!5m2!1sUvT6X5bgBpu5rQHq17L4DA!7e81\n7500\nZangrandi Ice Cream\n\nhttps://www.google.com/maps/preview/review/listentitiesreviews?authuser=0&hl=id&gl=id&pb=!1m2!1y3303383794499139231!2y14992311434585981795!2m2!1i0!2i10!3e1!4m5!3b1!4b1!5b1!6b1!7b1!5m2!1sXfT6X6rOCMzn9QPHzKDABg!7e81\n7500\nFood Festival\n\nhttps://www.google.com/maps/preview/review/listentitiesreviews?authuser=0&hl=id&gl=id&pb=!1m2!1y3303388531442019289!2y9777247586893677668!2m2!1i0!2i10!3e1!4m5!3b1!4b1!5b1!6b1!7b1!5m2!1s2vT6X6rEOtTQrQHhhZTADA!7e81\n17500\nFood Junction Grand Pakuwon\n\nhttps://www.google.com/maps/preview/review/listentitiesreviews?authuser=0&hl=id&gl=id&pb=!1m2!1y3303387886398905075!2y2006275175130583139!2m2!1i0!2i10!3e1!4m5!3b1!4b1!5b1!6b1!7b1!5m2!1sKvX6X4zND4jorQGay7LQBQ!7e81\n5500\nG WALK\n\nhttps://www.google.com/maps/preview/review/listentitiesreviews?authuser=0&hl=id&gl=id&pb=!1m2!1y3303385549634189957!2y16590652376659514244!2m2!1i0!2i10!3e1!4m5!3b1!4b1!5b1!6b1!7b1!5m2!1stPX6X6LrGMnc9QP5mITwBg!7e81\n6800\nGalaxy Mall 3\n\nhttps://www.google.com/maps/preview/review/listentitiesreviews?authuser=0&hl=id&gl=id&pb=!1m2!1y3303382916907530075!2y14230835747648788619!2m2!1i0!2i10!3e1!4m5!3b1!4b1!5b1!6b1!7b1!5m2!1swPb6X-K9JJeA9QPa5pDYAQ!7e81\n6100\nSurabaya Museum (Gedung Siola)\n"
     ]
    }
   ],
   "source": [
    "with open(\"archived urls.txt\", 'r') as in_file:\n",
    "    # len(in_file)\n",
    "    for line in in_file:\n",
    "        line_split = line.split(',')\n",
    "        print(line_split[0])\n",
    "        print(line_split[1])\n",
    "        print(line_split[2])\n"
   ]
  },
  {
   "cell_type": "code",
   "execution_count": null,
   "metadata": {},
   "outputs": [],
   "source": []
  }
 ]
}